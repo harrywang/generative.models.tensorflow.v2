{
 "cells": [
  {
   "cell_type": "markdown",
   "metadata": {},
   "source": [
    "# f-GAN with MNIST (or Fashion MNIST)\n",
    "\n",
    "* `f-GAN: Training Generative Neural Samplers using Variational Divergence Minimization`, [arXiv:1606.00709](https://arxiv.org/abs/1606.00709)\n",
    "  * Sebastian Nowozin, Botond Cseke, and Ryota Tomioka\n",
    "  \n",
    "* This code is available to tensorflow version 2.0\n",
    "* Implemented by [`tf.keras.layers`](https://www.tensorflow.org/versions/r2.0/api_docs/python/tf/keras/layers) [`tf.losses`](https://www.tensorflow.org/versions/r2.0/api_docs/python/tf/losses)\n",
    "* Use `transposed_conv2d` and `conv2d` for Generator and Discriminator, respectively.\n",
    "  * I do not use `dense` layer for model architecture consistency. (So my architecture is different from original dcgan structure)\n",
    "* based on DCGAN model"
   ]
  },
  {
   "cell_type": "markdown",
   "metadata": {},
   "source": [
    "## Import modules"
   ]
  },
  {
   "cell_type": "code",
   "execution_count": null,
   "metadata": {
    "ExecuteTime": {
     "end_time": "2019-03-12T10:39:09.338734Z",
     "start_time": "2019-03-12T10:39:07.374656Z"
    }
   },
   "outputs": [],
   "source": [
    "from __future__ import absolute_import\n",
    "from __future__ import division\n",
    "from __future__ import print_function\n",
    "from __future__ import unicode_literals\n",
    "\n",
    "import os\n",
    "import sys\n",
    "import time\n",
    "import glob\n",
    "\n",
    "import numpy as np\n",
    "import matplotlib.pyplot as plt\n",
    "%matplotlib inline\n",
    "\n",
    "import PIL\n",
    "import imageio\n",
    "from IPython import display\n",
    "\n",
    "import tensorflow as tf\n",
    "from tensorflow.keras import layers\n",
    "\n",
    "sys.path.append(os.path.dirname(os.path.abspath('.')))\n",
    "from utils.image_utils import *\n",
    "from utils.ops import *\n",
    "\n",
    "os.environ[\"CUDA_VISIBLE_DEVICES\"]=\"0\""
   ]
  },
  {
   "cell_type": "markdown",
   "metadata": {},
   "source": [
    "## Setting hyperparameters"
   ]
  },
  {
   "cell_type": "code",
   "execution_count": null,
   "metadata": {
    "ExecuteTime": {
     "end_time": "2019-03-12T10:39:09.347197Z",
     "start_time": "2019-03-12T10:39:09.342013Z"
    }
   },
   "outputs": [],
   "source": [
    "# Training Flags (hyperparameter configuration)\n",
    "model_name = 'fgan'\n",
    "train_dir = os.path.join('train', model_name, 'exp1')\n",
    "dataset_name = 'mnist'\n",
    "assert dataset_name in ['mnist', 'fashion_mnist']\n",
    "\n",
    "max_epochs = 50\n",
    "save_model_epochs = 10\n",
    "print_steps = 100\n",
    "save_images_epochs = 1\n",
    "batch_size = 128\n",
    "learning_rate_D = 1e-4\n",
    "learning_rate_G = 1e-4\n",
    "k = 1 # the number of step of learning D before learning G (Not used in this code)\n",
    "num_examples_to_generate = 16\n",
    "noise_dim = 100"
   ]
  },
  {
   "cell_type": "markdown",
   "metadata": {},
   "source": [
    "## Load the MNIST dataset"
   ]
  },
  {
   "cell_type": "code",
   "execution_count": null,
   "metadata": {
    "ExecuteTime": {
     "end_time": "2019-03-12T10:39:09.863181Z",
     "start_time": "2019-03-12T10:39:09.351243Z"
    }
   },
   "outputs": [],
   "source": [
    "# Load training and eval data from tf.keras\n",
    "if dataset_name == 'mnist':\n",
    "  (train_images, train_labels), _ = \\\n",
    "      tf.keras.datasets.mnist.load_data()\n",
    "else:\n",
    "  (train_images, train_labels), _ = \\\n",
    "      tf.keras.datasets.fashion_mnist.load_data()\n",
    "\n",
    "train_images = train_images.reshape(-1, MNIST_SIZE, MNIST_SIZE, 1).astype('float32')\n",
    "#train_images = train_images / 255. # Normalize the images to [0, 1]\n",
    "train_images = (train_images - 127.5) / 127.5 # Normalize the images to [-1, 1]"
   ]
  },
  {
   "cell_type": "markdown",
   "metadata": {},
   "source": [
    "## Set up dataset with `tf.data`\n",
    "\n",
    "### create input pipeline with `tf.data.Dataset`"
   ]
  },
  {
   "cell_type": "code",
   "execution_count": null,
   "metadata": {
    "ExecuteTime": {
     "end_time": "2019-03-12T10:39:09.909682Z",
     "start_time": "2019-03-12T10:39:09.867450Z"
    }
   },
   "outputs": [],
   "source": [
    "#tf.random.set_seed(219)\n",
    "# for train\n",
    "N = len(train_images)\n",
    "train_dataset = tf.data.Dataset.from_tensor_slices(train_images)\n",
    "train_dataset = train_dataset.shuffle(buffer_size=N)\n",
    "train_dataset = train_dataset.batch(batch_size=batch_size)\n",
    "print(train_dataset)"
   ]
  },
  {
   "cell_type": "markdown",
   "metadata": {
    "cell_style": "center"
   },
   "source": [
    "## Create the generator and discriminator models"
   ]
  },
  {
   "cell_type": "code",
   "execution_count": null,
   "metadata": {
    "ExecuteTime": {
     "end_time": "2019-03-12T10:39:09.926113Z",
     "start_time": "2019-03-12T10:39:09.915046Z"
    },
    "cell_style": "center"
   },
   "outputs": [],
   "source": [
    "class Generator(tf.keras.Model):\n",
    "  \"\"\"Build a generator that maps latent space to real space.\n",
    "    G(z): z -> x\n",
    "  \"\"\"\n",
    "  def __init__(self):\n",
    "    super(Generator, self).__init__()\n",
    "    self.conv1 = ConvTranspose(256, 3, padding='valid')\n",
    "    self.conv2 = ConvTranspose(128, 3, padding='valid')\n",
    "    self.conv3 = ConvTranspose(64, 4)\n",
    "    self.conv4 = ConvTranspose(1, 4, apply_batchnorm=False, activation='tanh')\n",
    "\n",
    "  def call(self, inputs, training=True):\n",
    "    \"\"\"Run the model.\"\"\"\n",
    "    # inputs: [1, 1, 100]\n",
    "    conv1 = self.conv1(inputs, training=training)           # conv1: [3, 3, 256]\n",
    "    conv2 = self.conv2(conv1, training=training)            # conv2: [7, 7, 128]\n",
    "    conv3 = self.conv3(conv2, training=training)            # conv3: [14, 14, 64]\n",
    "    generated_images = self.conv4(conv3, training=training) # generated_images: [28, 28, 1]\n",
    "    \n",
    "    return generated_images"
   ]
  },
  {
   "cell_type": "code",
   "execution_count": null,
   "metadata": {
    "ExecuteTime": {
     "end_time": "2019-03-12T10:39:09.937039Z",
     "start_time": "2019-03-12T10:39:09.929949Z"
    }
   },
   "outputs": [],
   "source": [
    "class Discriminator(tf.keras.Model):\n",
    "  \"\"\"Build a discriminator that discriminate real image x whether real or fake.\n",
    "    D(x): x -> [0, 1]\n",
    "  \"\"\"\n",
    "  def __init__(self):\n",
    "    super(Discriminator, self).__init__()\n",
    "    self.conv1 = Conv(64, 4, 2, apply_batchnorm=False, activation='leaky_relu')\n",
    "    self.conv2 = Conv(128, 4, 2, activation='leaky_relu')\n",
    "    self.conv3 = Conv(256, 3, 2, padding='valid', activation='leaky_relu')\n",
    "    self.conv4 = Conv(1, 3, 1, padding='valid', apply_batchnorm=False, activation='none')\n",
    "\n",
    "  def call(self, inputs, training=True):\n",
    "    \"\"\"Run the model.\"\"\"\n",
    "    # inputs: [28, 28, 1]\n",
    "    conv1 = self.conv1(inputs)                            # conv1: [14, 14, 64]\n",
    "    conv2 = self.conv2(conv1)                             # conv2: [7, 7, 128]\n",
    "    conv3 = self.conv3(conv2)                             # conv3: [3, 3, 256]\n",
    "    conv4 = self.conv4(conv3)                             # conv4: [1, 1, 1]\n",
    "    discriminator_logits = tf.squeeze(conv4, axis=[1, 2]) # discriminator_logits: [1,]\n",
    "    \n",
    "    return discriminator_logits"
   ]
  },
  {
   "cell_type": "code",
   "execution_count": null,
   "metadata": {
    "ExecuteTime": {
     "end_time": "2019-03-12T10:39:09.960271Z",
     "start_time": "2019-03-12T10:39:09.941332Z"
    }
   },
   "outputs": [],
   "source": [
    "generator = Generator()\n",
    "discriminator = Discriminator()"
   ]
  },
  {
   "cell_type": "markdown",
   "metadata": {},
   "source": [
    "### Plot generated image via generator network"
   ]
  },
  {
   "cell_type": "code",
   "execution_count": null,
   "metadata": {},
   "outputs": [],
   "source": [
    "noise = tf.random.normal([1, 1, 1, noise_dim])\n",
    "generated_image = generator(noise, training=False)\n",
    "\n",
    "plt.imshow(generated_image[0, :, :, 0], cmap='gray')"
   ]
  },
  {
   "cell_type": "markdown",
   "metadata": {},
   "source": [
    "### Test discriminator network\n",
    "\n",
    "* **CAUTION**: the outputs of discriminator is **logits** (unnormalized probability) NOT probabilites"
   ]
  },
  {
   "cell_type": "code",
   "execution_count": null,
   "metadata": {},
   "outputs": [],
   "source": [
    "decision = discriminator(generated_image)\n",
    "print(decision)"
   ]
  },
  {
   "cell_type": "markdown",
   "metadata": {},
   "source": [
    "## Define the loss functions and the optimizer"
   ]
  },
  {
   "cell_type": "code",
   "execution_count": null,
   "metadata": {
    "ExecuteTime": {
     "end_time": "2019-03-12T10:39:11.039817Z",
     "start_time": "2019-03-12T10:39:11.035443Z"
    }
   },
   "outputs": [],
   "source": [
    "# use logits for consistency with previous code I made\n",
    "# `tf.losses` and `tf.keras.losses` are the same API (alias)\n",
    "#bce = tf.losses.BinaryCrossentropy(from_logits=True)"
   ]
  },
  {
   "cell_type": "code",
   "execution_count": null,
   "metadata": {
    "ExecuteTime": {
     "end_time": "2019-03-12T10:39:11.053899Z",
     "start_time": "2019-03-12T10:39:11.043664Z"
    }
   },
   "outputs": [],
   "source": [
    "def fGANLoss(logits, is_real=True, method='gan'):\n",
    "  \"\"\"Computes standard f-GAN.\n",
    "  See the Table 6. in the f-GAN paper (https://arxiv.org/abs/1606.00709)\n",
    "\n",
    "  Args:\n",
    "    logits (`2-rank Tensor`): logits.\n",
    "    is_real (`bool`): True means `1` labeling, False means `0` labeling.\n",
    "    method (`string`): ['gan', 'kl', 'rkl', 'js'], this list will be updated\n",
    "\n",
    "  Returns:\n",
    "    loss (`0-rank Tensor`): the f-GAN loss value calculated using method you want.\n",
    "  \"\"\"\n",
    "  epsilon = 1e-10\n",
    "  assert method in ['gan', 'kl', 'rkl', 'js']\n",
    "  if method == 'gan': # GAN\n",
    "    activation = lambda x: -tf.math.log(1. + tf.math.exp(-x))\n",
    "    conjuate = lambda x: -tf.math.log(1. - tf.math.exp(x) + epsilon)\n",
    "  elif method == 'kl': # Kullback-Leibler (KL)\n",
    "    activation = lambda x: x\n",
    "    conjuate = lambda x: tf.math.exp(x - 1.)\n",
    "  elif method == 'rkl': # Reverse KL\n",
    "    activation = lambda x: -tf.math.exp(x)\n",
    "    conjuate = lambda x: -1. - tf.math.log(-x + epsilon)\n",
    "  elif method == 'js': # Jensen-Shannon\n",
    "    activation = lambda x: tf.math.log(2.) - tf.math.log(1. + tf.math.exp(-x))\n",
    "    conjuate = lambda x: -tf.math.log(2. - tf.math.exp(x) + epsilon)\n",
    "\n",
    "  if is_real:\n",
    "    loss = tf.reduce_mean(activation(logits))\n",
    "  else:\n",
    "    loss = tf.reduce_mean(-conjuate(activation(logits)))\n",
    "    \n",
    "  return loss"
   ]
  },
  {
   "cell_type": "code",
   "execution_count": null,
   "metadata": {
    "ExecuteTime": {
     "end_time": "2019-03-12T10:39:11.071353Z",
     "start_time": "2019-03-12T10:39:11.064499Z"
    }
   },
   "outputs": [],
   "source": [
    "def discriminator_loss(real_logits, fake_logits):\n",
    "  # losses of real with label \"1\"\n",
    "  real_loss = fGANLoss(logits=real_logits, is_real=True)\n",
    "  # losses of fake with label \"0\"\n",
    "  fake_loss = fGANLoss(logits=fake_logits, is_real=False)\n",
    "  \n",
    "  return real_loss + fake_loss"
   ]
  },
  {
   "cell_type": "code",
   "execution_count": null,
   "metadata": {
    "ExecuteTime": {
     "end_time": "2019-03-12T10:39:11.082930Z",
     "start_time": "2019-03-12T10:39:11.078166Z"
    }
   },
   "outputs": [],
   "source": [
    "def generator_loss(fake_logits):\n",
    "  # losses of Generator with label \"1\" that used to fool the Discriminator\n",
    "  return fGANLoss(logits=fake_logits, is_real=True)"
   ]
  },
  {
   "cell_type": "code",
   "execution_count": null,
   "metadata": {
    "ExecuteTime": {
     "end_time": "2019-03-12T10:39:11.092487Z",
     "start_time": "2019-03-12T10:39:11.086569Z"
    }
   },
   "outputs": [],
   "source": [
    "#discriminator_optimizer = tf.keras.optimizers.Adam(learning_rate_D, beta_1=0.5)\n",
    "discriminator_optimizer = tf.keras.optimizers.RMSprop(learning_rate_D)\n",
    "generator_optimizer = tf.keras.optimizers.Adam(learning_rate_G, beta_1=0.5)"
   ]
  },
  {
   "cell_type": "markdown",
   "metadata": {},
   "source": [
    "## Checkpoints (Object-based saving)"
   ]
  },
  {
   "cell_type": "code",
   "execution_count": null,
   "metadata": {
    "ExecuteTime": {
     "end_time": "2019-03-12T10:39:11.102663Z",
     "start_time": "2019-03-12T10:39:11.096062Z"
    }
   },
   "outputs": [],
   "source": [
    "checkpoint_dir = train_dir\n",
    "if not tf.io.gfile.exists(checkpoint_dir):\n",
    "  tf.io.gfile.makedirs(checkpoint_dir)\n",
    "checkpoint_prefix = os.path.join(checkpoint_dir, \"ckpt\")\n",
    "checkpoint = tf.train.Checkpoint(generator_optimizer=generator_optimizer,\n",
    "                                 discriminator_optimizer=discriminator_optimizer,\n",
    "                                 generator=generator,\n",
    "                                 discriminator=discriminator)"
   ]
  },
  {
   "cell_type": "markdown",
   "metadata": {},
   "source": [
    "## Training"
   ]
  },
  {
   "cell_type": "code",
   "execution_count": null,
   "metadata": {
    "ExecuteTime": {
     "end_time": "2019-03-12T10:39:11.114122Z",
     "start_time": "2019-03-12T10:39:11.107364Z"
    }
   },
   "outputs": [],
   "source": [
    "# keeping the random vector constant for generation (prediction) so\n",
    "# it will be easier to see the improvement of the gan.\n",
    "# To visualize progress in the animated GIF\n",
    "const_random_vector_for_saving = tf.random.uniform([num_examples_to_generate, 1, 1, noise_dim],\n",
    "                                                   minval=-1.0, maxval=1.0)"
   ]
  },
  {
   "cell_type": "markdown",
   "metadata": {},
   "source": [
    "### Define training one step function"
   ]
  },
  {
   "cell_type": "code",
   "execution_count": null,
   "metadata": {},
   "outputs": [],
   "source": [
    "# Notice the use of `tf.function`\n",
    "# This annotation causes the function to be \"compiled\".\n",
    "@tf.function\n",
    "def train_step(images):\n",
    "  # generating noise from a uniform distribution\n",
    "  noise = tf.random.uniform([batch_size, 1, 1, noise_dim], minval=-1.0, maxval=1.0)\n",
    "\n",
    "  with tf.GradientTape() as gen_tape, tf.GradientTape() as disc_tape:\n",
    "    generated_images = generator(noise, training=True)\n",
    "\n",
    "    real_logits = discriminator(images, training=True)\n",
    "    fake_logits = discriminator(generated_images, training=True)\n",
    "\n",
    "    gen_loss = generator_loss(fake_logits)\n",
    "    disc_loss = discriminator_loss(real_logits, fake_logits)\n",
    "\n",
    "  gradients_of_discriminator = disc_tape.gradient(disc_loss, discriminator.trainable_variables)\n",
    "  gradients_of_generator = gen_tape.gradient(gen_loss, generator.trainable_variables)\n",
    "\n",
    "  discriminator_optimizer.apply_gradients(zip(gradients_of_discriminator, discriminator.trainable_variables))\n",
    "  generator_optimizer.apply_gradients(zip(gradients_of_generator, generator.trainable_variables))\n",
    "\n",
    "  return gen_loss, disc_loss"
   ]
  },
  {
   "cell_type": "markdown",
   "metadata": {},
   "source": [
    "### Train full steps"
   ]
  },
  {
   "cell_type": "code",
   "execution_count": null,
   "metadata": {
    "ExecuteTime": {
     "end_time": "2019-03-12T10:39:26.297986Z",
     "start_time": "2019-03-12T10:39:11.118207Z"
    }
   },
   "outputs": [],
   "source": [
    "print('Start Training.')\n",
    "num_batches_per_epoch = int(N / batch_size)\n",
    "global_step = tf.Variable(0, trainable=False)\n",
    "\n",
    "for epoch in range(max_epochs):\n",
    "  \n",
    "  for step, images in enumerate(train_dataset):\n",
    "    start_time = time.time()\n",
    "\n",
    "    gen_loss, disc_loss = train_step(images)\n",
    "    global_step.assign_add(1)\n",
    "\n",
    "    if global_step.numpy() % print_steps == 0:\n",
    "      epochs = epoch + step / float(num_batches_per_epoch)\n",
    "      duration = time.time() - start_time\n",
    "      examples_per_sec = batch_size / float(duration)\n",
    "      display.clear_output(wait=True)\n",
    "      print(\"Epochs: {:.2f} global_step: {} loss_D: {:.3g} loss_G: {:.3g} ({:.2f} examples/sec; {:.3f} sec/batch)\".format(\n",
    "                epochs, global_step.numpy(), disc_loss, gen_loss, examples_per_sec, duration))\n",
    "      random_vector_for_sampling = tf.random.uniform([num_examples_to_generate, 1, 1, noise_dim],\n",
    "                                                     minval=-1.0, maxval=1.0)\n",
    "      sample_images = generator(random_vector_for_sampling, training=False)\n",
    "      print_or_save_sample_images(sample_images.numpy(), num_examples_to_generate)\n",
    "\n",
    "  if (epoch + 1) % save_images_epochs == 0:\n",
    "    display.clear_output(wait=True)\n",
    "    print(\"This images are saved at {} epoch\".format(epoch+1))\n",
    "    sample_images = generator(const_random_vector_for_saving, training=False)\n",
    "    print_or_save_sample_images(sample_images.numpy(), num_examples_to_generate,\n",
    "                                is_square=True, is_save=True, epoch=epoch+1,\n",
    "                                checkpoint_dir=checkpoint_dir)\n",
    "\n",
    "  # saving (checkpoint) the model every save_epochs\n",
    "  if (epoch + 1) % save_model_epochs == 0:\n",
    "    checkpoint.save(file_prefix=checkpoint_prefix)\n",
    "    \n",
    "print('Training Done.')"
   ]
  },
  {
   "cell_type": "code",
   "execution_count": null,
   "metadata": {
    "ExecuteTime": {
     "end_time": "2019-03-12T10:39:26.335196Z",
     "start_time": "2019-03-12T10:39:07.599Z"
    }
   },
   "outputs": [],
   "source": [
    "# generating after the final epoch\n",
    "display.clear_output(wait=True)\n",
    "sample_images = generator(const_random_vector_for_saving, training=False)\n",
    "print_or_save_sample_images(sample_images.numpy(), num_examples_to_generate,\n",
    "                            is_square=True, is_save=True, epoch=epoch+1,\n",
    "                            checkpoint_dir=checkpoint_dir)"
   ]
  },
  {
   "cell_type": "markdown",
   "metadata": {},
   "source": [
    "## Restore the latest checkpoint"
   ]
  },
  {
   "cell_type": "code",
   "execution_count": null,
   "metadata": {
    "ExecuteTime": {
     "end_time": "2019-03-12T10:39:26.338975Z",
     "start_time": "2019-03-12T10:39:07.624Z"
    }
   },
   "outputs": [],
   "source": [
    "# restoring the latest checkpoint in checkpoint_dir\n",
    "checkpoint.restore(tf.train.latest_checkpoint(checkpoint_dir))"
   ]
  },
  {
   "cell_type": "markdown",
   "metadata": {},
   "source": [
    "## Display an image using the epoch number"
   ]
  },
  {
   "cell_type": "code",
   "execution_count": null,
   "metadata": {
    "ExecuteTime": {
     "end_time": "2019-03-12T10:39:26.343875Z",
     "start_time": "2019-03-12T10:39:07.649Z"
    }
   },
   "outputs": [],
   "source": [
    "display_image(max_epochs, checkpoint_dir=checkpoint_dir)"
   ]
  },
  {
   "cell_type": "markdown",
   "metadata": {},
   "source": [
    "## Generate a GIF of all the saved images."
   ]
  },
  {
   "cell_type": "code",
   "execution_count": null,
   "metadata": {
    "ExecuteTime": {
     "end_time": "2019-03-12T10:39:26.346211Z",
     "start_time": "2019-03-12T10:39:07.675Z"
    }
   },
   "outputs": [],
   "source": [
    "filename = model_name + '_' + dataset_name + '.gif'\n",
    "generate_gif(filename, checkpoint_dir)"
   ]
  },
  {
   "cell_type": "code",
   "execution_count": null,
   "metadata": {
    "ExecuteTime": {
     "end_time": "2019-03-12T10:39:26.348980Z",
     "start_time": "2019-03-12T10:39:07.677Z"
    },
    "scrolled": true
   },
   "outputs": [],
   "source": [
    "display.Image(filename=filename + '.png')"
   ]
  }
 ],
 "metadata": {
  "kernelspec": {
   "display_name": "Python 3",
   "language": "python",
   "name": "python3"
  },
  "language_info": {
   "codemirror_mode": {
    "name": "ipython",
    "version": 3
   },
   "file_extension": ".py",
   "mimetype": "text/x-python",
   "name": "python",
   "nbconvert_exporter": "python",
   "pygments_lexer": "ipython3",
   "version": "3.6.5"
  },
  "latex_envs": {
   "LaTeX_envs_menu_present": true,
   "autoclose": false,
   "autocomplete": true,
   "bibliofile": "biblio.bib",
   "cite_by": "apalike",
   "current_citInitial": 1,
   "eqLabelWithNumbers": true,
   "eqNumInitial": 1,
   "hotkeys": {
    "equation": "Ctrl-E",
    "itemize": "Ctrl-I"
   },
   "labels_anchors": false,
   "latex_user_defs": false,
   "report_style_numbering": false,
   "user_envs_cfg": false
  },
  "toc": {
   "base_numbering": 1,
   "nav_menu": {},
   "number_sections": true,
   "sideBar": true,
   "skip_h1_title": false,
   "title_cell": "Table of Contents",
   "title_sidebar": "Contents",
   "toc_cell": false,
   "toc_position": {},
   "toc_section_display": true,
   "toc_window_display": false
  },
  "varInspector": {
   "cols": {
    "lenName": 16,
    "lenType": 16,
    "lenVar": 40
   },
   "kernels_config": {
    "python": {
     "delete_cmd_postfix": "",
     "delete_cmd_prefix": "del ",
     "library": "var_list.py",
     "varRefreshCmd": "print(var_dic_list())"
    },
    "r": {
     "delete_cmd_postfix": ") ",
     "delete_cmd_prefix": "rm(",
     "library": "var_list.r",
     "varRefreshCmd": "cat(var_dic_list()) "
    }
   },
   "position": {
    "height": "413px",
    "left": "733px",
    "right": "2px",
    "top": "77px",
    "width": "493px"
   },
   "types_to_exclude": [
    "module",
    "function",
    "builtin_function_or_method",
    "instance",
    "_Feature"
   ],
   "window_display": false
  }
 },
 "nbformat": 4,
 "nbformat_minor": 2
}
